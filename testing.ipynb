{
 "cells": [
  {
   "cell_type": "code",
   "execution_count": 3,
   "metadata": {
    "collapsed": true
   },
   "outputs": [],
   "source": [
    "%load_ext autoreload\n",
    "%autoreload 2"
   ]
  },
  {
   "cell_type": "code",
   "execution_count": 4,
   "metadata": {
    "collapsed": false
   },
   "outputs": [],
   "source": [
    "import time\n",
    "import selenium.webdriver\n",
    "from bs4 import BeautifulSoup"
   ]
  },
  {
   "cell_type": "code",
   "execution_count": null,
   "metadata": {
    "collapsed": true
   },
   "outputs": [],
   "source": [
    "time.sleep"
   ]
  },
  {
   "cell_type": "code",
   "execution_count": 5,
   "metadata": {
    "collapsed": true
   },
   "outputs": [],
   "source": [
    "from src.retrieve_source import Scrape"
   ]
  },
  {
   "cell_type": "code",
   "execution_count": 6,
   "metadata": {
    "collapsed": false
   },
   "outputs": [],
   "source": [
    "from src.reddit_scraping import Reddit_Scrape"
   ]
  },
  {
   "cell_type": "code",
   "execution_count": 7,
   "metadata": {
    "collapsed": false
   },
   "outputs": [],
   "source": [
    "scraper = Scrape()"
   ]
  },
  {
   "cell_type": "code",
   "execution_count": 8,
   "metadata": {
    "collapsed": true
   },
   "outputs": [],
   "source": [
    "source = scraper.get_source('http://www.reddit.com', ret=True)"
   ]
  },
  {
   "cell_type": "code",
   "execution_count": 9,
   "metadata": {
    "collapsed": false
   },
   "outputs": [],
   "source": [
    "reddit_posts = Reddit_Scrape('http://www.reddit.com')"
   ]
  },
  {
   "cell_type": "code",
   "execution_count": 10,
   "metadata": {
    "collapsed": false
   },
   "outputs": [],
   "source": [
    "reddit_dict = reddit_posts.main_loop()"
   ]
  },
  {
   "cell_type": "code",
   "execution_count": 11,
   "metadata": {
    "collapsed": false
   },
   "outputs": [
    {
     "name": "stdout",
     "output_type": "stream",
     "text": [
      "Post 0: {'sub': 'null', 'comments': 'null', 'title': u\"Meet Pixel, Phone by Google. With a best-ever 89 DxOMark Mobile score, Pixel's camera lets you take brilliant photos in low light, bright light or any light. Learn more at google.com/phone. (madeby.google.com)\"}\n",
      "\n",
      "Post 1: {'sub': 'dataisbeautiful', 'comments': 'https://www.reddit.com/r/dataisbeautiful/comments/5wvj6d/countries_with_the_largest_defense_budgets_oc/', 'title': u'Countries with the Largest Defense Budgets [OC]OC (i.imgur.com)'}\n",
      "\n",
      "Post 2: {'sub': 'BlackPeopleTwitter', 'comments': 'https://www.reddit.com/r/BlackPeopleTwitter/comments/5wvls9/its_time_to_mcstop/', 'title': u\"It's time to McStop (i.redd.it)\"}\n",
      "\n",
      "Post 3: {'sub': 'pics', 'comments': 'https://www.reddit.com/r/pics/comments/5wv2x4/heard_you_were_talking_shit/', 'title': u'Heard You Were Talking Shit (i.redd.it)'}\n",
      "\n",
      "Post 4: {'sub': 'StarWars', 'comments': 'https://www.reddit.com/r/StarWars/comments/5wv1dh/youre_a_jedi_rey/', 'title': u\"You're a Jedi Rey!Fan Creations (imgur.com)\"}\n",
      "\n",
      "Post 5: {'sub': 'nottheonion', 'comments': 'https://www.reddit.com/r/nottheonion/comments/5wupab/67yearold_man_dies_from_heart_attack_after/', 'title': u\"67-year-old man dies from heart attack after catching prized Pokemon 'Lapras' at MBS (news.asiaone.com)\"}\n",
      "\n",
      "Post 6: {'sub': 'gifs', 'comments': 'https://www.reddit.com/r/gifs/comments/5wuiut/can_move_a_random_part_of_my_hand_useless_but/', 'title': u'Can move a random part of my hand. Useless. But interesting. (i.imgur.com)'}\n",
      "\n",
      "Post 7: {'sub': 'facepalm', 'comments': 'https://www.reddit.com/r/facepalm/comments/5wv66l/pull_yourself_up_while_standing_in_buckets/', 'title': u'Pull yourself up while standing in buckets (imgur.com)'}\n",
      "\n",
      "Post 8: {'sub': 'GetMotivated', 'comments': 'https://www.reddit.com/r/GetMotivated/comments/5wv5jh/image_the_bird_who_dares_to_fall_is_the_bird_who/', 'title': u\"[image] 'The bird who dares to fall is the bird who learns to fly.' 8 year old Bailey Matthews finishes triathlon on his own terms. (i.imgur.com)\"}\n",
      "\n",
      "Post 9: {'sub': 'reactiongifs', 'comments': 'https://www.reddit.com/r/reactiongifs/comments/5wvffs/mrw_she_asks_to_spend_the_night_so_we_can_have/', 'title': u'MRW she asks to spend the night so we can have sex again in the morning/r/all (i.imgur.com)'}\n",
      "\n",
      "Post 10: {'sub': 'europe', 'comments': 'https://www.reddit.com/r/europe/comments/5wu7eb/as_of_today_samesex_is_legal_and_equal_in_finland/', 'title': u'As of today, same-sex is legal and equal in Finland. Yay, us!same sex marriage (self.europe)'}\n",
      "\n",
      "Post 11: {'sub': 'worldnews', 'comments': 'https://www.reddit.com/r/worldnews/comments/5wv4vw/uk_new_drivers_who_are_caught_using_a_phone_at/', 'title': u'UK: New drivers who are caught using a phone at the wheel will lose their licence under new legislation that comes into force today. (telegraph.co.uk)'}\n",
      "\n",
      "Post 12: {'sub': 'CrappyDesign', 'comments': 'https://www.reddit.com/r/CrappyDesign/comments/5wv0w8/not_sure_about_that_one/', 'title': u'Not sure about that one... (i.redd.it)'}\n",
      "\n",
      "Post 13: {'sub': 'UpliftingNews', 'comments': 'https://www.reddit.com/r/UpliftingNews/comments/5wvfrg/meditation_is_replacing_detention_in_baltimores/', 'title': u\"Meditation is Replacing Detention in Baltimore's Public Schools, and the Students Are Thriving (openculture.com)\"}\n",
      "\n",
      "Post 14: {'sub': 'thisismylifenow', 'comments': 'https://www.reddit.com/r/thisismylifenow/comments/5wupb6/i_guess_i_live_in_this_brick_now/', 'title': u'I guess I live in this brick now (gfycat.com)'}\n",
      "\n",
      "Post 15: {'sub': 'HighQualityGifs', 'comments': 'https://www.reddit.com/r/HighQualityGifs/comments/5wvisc/and_now_a_selection_of_things_that_bugs_me/', 'title': u'And now, a selection of things that Bugs me/r/all (i.imgur.com)'}\n",
      "\n",
      "Post 16: {'sub': 'funny', 'comments': 'https://www.reddit.com/r/funny/comments/5wte5s/if_you_say_so/', 'title': u'If you say so... (i.redd.it)'}\n",
      "\n",
      "Post 17: {'sub': 'todayilearned', 'comments': 'https://www.reddit.com/r/todayilearned/comments/5wtv82/til_the_designer_of_the_porsche_911_butzi_porsche/', 'title': u\"TIL the designer of the Porsche 911, Butzi Porsche, was kicked out of industrial design school in his first year for apparent lack of talent. When he went to work for his father at Porsche, the company's design director rejected his ideas, so he had the 911 prototype built by an outside contractor. (en.wikipedia.org)\"}\n",
      "\n",
      "Post 18: {'sub': 'science', 'comments': 'https://www.reddit.com/r/science/comments/5wvsod/a_new_study_has_revealed_that_its_general/', 'title': u\"A new study has revealed that it's general exchanges of words and signs of affection following sex that directly cause increased long-term happiness and more life satisfaction in couples who have sex at least once a week.Health (medicaldaily.com)\"}\n",
      "\n",
      "Post 19: {'sub': 'Showerthoughts', 'comments': 'https://www.reddit.com/r/Showerthoughts/comments/5wtcr9/an_hourglass_has_more_moving_parts_than_a/', 'title': u'An hourglass has more moving parts than a complicated wristwatch. (self.Showerthoughts)'}\n",
      "\n",
      "Post 20: {'sub': 'wholesomememes', 'comments': 'https://www.reddit.com/r/wholesomememes/comments/5wtmxn/tech_savvy_grandpa/', 'title': u'Tech savvy grandpa (i.reddituploads.com)'}\n",
      "\n",
      "Post 21: {'sub': 'gaming', 'comments': 'https://www.reddit.com/r/gaming/comments/5wtn8u/when_you_accidentally_get_put_into_a_bf1_trailer/', 'title': u'When you accidentally get put into a BF1 Trailer (i.imgur.com)'}\n",
      "\n",
      "Post 22: {'sub': 'movies', 'comments': 'https://www.reddit.com/r/movies/comments/5wt6yn/guardians_of_the_galaxy_vol_2_trailer_2/', 'title': u\"'Guardians of the Galaxy Vol. 2' - Trailer #2Trailers (youtube.com)\"}\n",
      "\n",
      "Post 23: {'sub': 'explainlikeimfive', 'comments': 'https://www.reddit.com/r/explainlikeimfive/comments/5wvocj/eli5_why_is_w_called_double_u_when_it_is_clearly/', 'title': u'ELI5: Why is W called \"double U\" when it is clearly \"double V\"?Repost (self.explainlikeimfive)'}\n",
      "\n",
      "Post 24: {'sub': 'aww', 'comments': 'https://www.reddit.com/r/aww/comments/5wsqt8/these_two_are_the_best_of_friends/', 'title': u'These two are the best of friends (i.imgur.com)'}\n",
      "\n",
      "Post 25: {'sub': 'reallifedoodles', 'comments': 'https://www.reddit.com/r/reallifedoodles/comments/5wtq8g/snatch/', 'title': u'Snatch (i.imgur.com)'}\n",
      "\n"
     ]
    }
   ],
   "source": [
    "for x,y in reddit_dict.items():\n",
    "    print \"Post {}: {}\\n\".format(x,y)"
   ]
  },
  {
   "cell_type": "code",
   "execution_count": 23,
   "metadata": {
    "collapsed": false
   },
   "outputs": [
    {
     "data": {
      "text/plain": [
       "{'comments': 'null',\n",
       " 'sub': 'null',\n",
       " 'title': u\"Meet Pixel, Phone by Google. With a best-ever 89 DxOMark Mobile score, Pixel's camera lets you take brilliant photos in low light, bright light or any light. Learn more at google.com/phone. (madeby.google.com)\"}"
      ]
     },
     "execution_count": 23,
     "metadata": {},
     "output_type": "execute_result"
    }
   ],
   "source": [
    "reddit_dict[0]"
   ]
  },
  {
   "cell_type": "code",
   "execution_count": 18,
   "metadata": {
    "collapsed": true
   },
   "outputs": [],
   "source": [
    "test_dict = {3: 10}"
   ]
  },
  {
   "cell_type": "code",
   "execution_count": 20,
   "metadata": {
    "collapsed": false
   },
   "outputs": [
    {
     "data": {
      "text/plain": [
       "10"
      ]
     },
     "execution_count": 20,
     "metadata": {},
     "output_type": "execute_result"
    }
   ],
   "source": [
    "test_dict[3]"
   ]
  },
  {
   "cell_type": "code",
   "execution_count": 45,
   "metadata": {
    "collapsed": false
   },
   "outputs": [],
   "source": [
    "from pymongo import MongoClient\n",
    "import pprint\n",
    "import datetime"
   ]
  },
  {
   "cell_type": "code",
   "execution_count": 25,
   "metadata": {
    "collapsed": true
   },
   "outputs": [],
   "source": [
    "client = MongoClient('mongodb://localhost:27017/')\n",
    "db = client.reddit_test"
   ]
  },
  {
   "cell_type": "code",
   "execution_count": 26,
   "metadata": {
    "collapsed": true
   },
   "outputs": [],
   "source": [
    "reddit_test = db.reddit_test"
   ]
  },
  {
   "cell_type": "code",
   "execution_count": 51,
   "metadata": {
    "collapsed": false
   },
   "outputs": [],
   "source": [
    "x = datetime.datetime.now()"
   ]
  },
  {
   "cell_type": "code",
   "execution_count": 52,
   "metadata": {
    "collapsed": false
   },
   "outputs": [
    {
     "data": {
      "text/plain": [
       "True"
      ]
     },
     "execution_count": 52,
     "metadata": {},
     "output_type": "execute_result"
    }
   ],
   "source": [
    "x < datetime.datetime.now()"
   ]
  },
  {
   "cell_type": "code",
   "execution_count": 49,
   "metadata": {
    "collapsed": false
   },
   "outputs": [
    {
     "data": {
      "text/plain": [
       "<pymongo.results.InsertOneResult at 0x10a7217d0>"
      ]
     },
     "execution_count": 49,
     "metadata": {},
     "output_type": "execute_result"
    }
   ],
   "source": [
    "reddit_test.insert_one({\n",
    "    'post' : 0,\n",
    "    'info' : reddit_dict[0],\n",
    "    'time' : datetime.datetime.now()})"
   ]
  },
  {
   "cell_type": "code",
   "execution_count": 44,
   "metadata": {
    "collapsed": false
   },
   "outputs": [
    {
     "data": {
      "text/plain": [
       "{u'_id': ObjectId('58b6ec0854558fd778dde40c'),\n",
       " u'comments': u'null',\n",
       " u'sub': u'null',\n",
       " u'title': u\"Meet Pixel, Phone by Google. With a best-ever 89 DxOMark Mobile score, Pixel's camera lets you take brilliant photos in low light, bright light or any light. Learn more at google.com/phone. (madeby.google.com)\"}"
      ]
     },
     "execution_count": 44,
     "metadata": {},
     "output_type": "execute_result"
    }
   ],
   "source": [
    "reddit_test.find_one()"
   ]
  },
  {
   "cell_type": "code",
   "execution_count": 50,
   "metadata": {
    "collapsed": false
   },
   "outputs": [
    {
     "name": "stdout",
     "output_type": "stream",
     "text": [
      "{u'_id': ObjectId('58b6ed6b54558fd778dde40e'),\n",
      " u'info': {u'_id': ObjectId('58b6ec0854558fd778dde40c'),\n",
      "           u'comments': u'null',\n",
      "           u'sub': u'null',\n",
      "           u'title': u\"Meet Pixel, Phone by Google. With a best-ever 89 DxOMark Mobile score, Pixel's camera lets you take brilliant photos in low light, bright light or any light. Learn more at google.com/phone. (madeby.google.com)\"},\n",
      " u'post': 0}\n"
     ]
    }
   ],
   "source": [
    "post_0 = reddit_test.find_one({'post': 0})\n",
    "pprint.pprint(post_0)"
   ]
  },
  {
   "cell_type": "code",
   "execution_count": null,
   "metadata": {
    "collapsed": true
   },
   "outputs": [],
   "source": []
  }
 ],
 "metadata": {
  "kernelspec": {
   "display_name": "Python 2",
   "language": "python",
   "name": "python2"
  },
  "language_info": {
   "codemirror_mode": {
    "name": "ipython",
    "version": 2
   },
   "file_extension": ".py",
   "mimetype": "text/x-python",
   "name": "python",
   "nbconvert_exporter": "python",
   "pygments_lexer": "ipython2",
   "version": "2.7.13"
  }
 },
 "nbformat": 4,
 "nbformat_minor": 2
}
