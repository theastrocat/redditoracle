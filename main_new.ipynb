{
 "cells": [
  {
   "cell_type": "code",
   "execution_count": 1,
   "metadata": {
    "collapsed": true
   },
   "outputs": [],
   "source": [
    "%load_ext autoreload\n",
    "%autoreload 2"
   ]
  },
  {
   "cell_type": "code",
   "execution_count": 5,
   "metadata": {
    "collapsed": true
   },
   "outputs": [],
   "source": [
    "import time\n",
    "from bs4 import BeautifulSoup\n",
    "from pymongo import MongoClient\n",
    "import datetime"
   ]
  },
  {
   "cell_type": "code",
   "execution_count": 4,
   "metadata": {
    "collapsed": true
   },
   "outputs": [],
   "source": [
    "from src.retrieve_source import Scrape\n",
    "from src.reddit_scraping import Reddit_Scrape"
   ]
  },
  {
   "cell_type": "code",
   "execution_count": 6,
   "metadata": {
    "collapsed": true
   },
   "outputs": [],
   "source": [
    "client = MongoClient('mongodb://localhost:27017/')\n",
    "db = client.reddit_new_db\n",
    "reddit_new_db = db.reddit_new_db"
   ]
  },
  {
   "cell_type": "code",
   "execution_count": null,
   "metadata": {
    "collapsed": true
   },
   "outputs": [],
   "source": [
    "working = True\n",
    "check_delay = 900\n",
    "page_delay = 60"
   ]
  },
  {
   "cell_type": "code",
   "execution_count": null,
   "metadata": {
    "collapsed": true
   },
   "outputs": [],
   "source": [
    "page_list = ['www.reddit.com/new',\n",
    "             'https://www.reddit.com/new/?count=25',\n",
    "             'https://www.reddit.com/new/?count=50',\n",
    "             'https://www.reddit.com/new/?count=75',\n",
    "             'https://www.reddit.com/new/?count=100'\n",
    "]"
   ]
  },
  {
   "cell_type": "code",
   "execution_count": null,
   "metadata": {
    "collapsed": true
   },
   "outputs": [],
   "source": [
    "while working == True:\n",
    "    for html in page_list:\n",
    "        reddit_posts = Reddit_scrape(html)\n",
    "        scrape_time = datetime.datetime.now()\n",
    "        reddit_dict = reddit_posts.main_loop()\n",
    "        for post,content in reddit_dict.items():\n",
    "            reddit_new_db.insert_one({\n",
    "                'post': post,\n",
    "                'info': content,\n",
    "                'time': scrape_time\n",
    "            })\n",
    "        time.sleep(page_delay)\n",
    "    time.sleep(check_delay)"
   ]
  }
 ],
 "metadata": {
  "kernelspec": {
   "display_name": "Python 2",
   "language": "python",
   "name": "python2"
  },
  "language_info": {
   "codemirror_mode": {
    "name": "ipython",
    "version": 2
   },
   "file_extension": ".py",
   "mimetype": "text/x-python",
   "name": "python",
   "nbconvert_exporter": "python",
   "pygments_lexer": "ipython2",
   "version": "2.7.13"
  }
 },
 "nbformat": 4,
 "nbformat_minor": 2
}
