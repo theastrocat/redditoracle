{
 "cells": [
  {
   "cell_type": "code",
   "execution_count": 5,
   "metadata": {
    "collapsed": true
   },
   "outputs": [],
   "source": [
    "%load_ext autoreload\n",
    "%autoreload 2"
   ]
  },
  {
   "cell_type": "code",
   "execution_count": 15,
   "metadata": {
    "collapsed": false
   },
   "outputs": [],
   "source": [
    "import time\n",
    "import selenium.webdriver\n",
    "from bs4 import BeautifulSoup"
   ]
  },
  {
   "cell_type": "code",
   "execution_count": 16,
   "metadata": {
    "collapsed": true
   },
   "outputs": [],
   "source": [
    "from src.retrieve_source import Scrape"
   ]
  },
  {
   "cell_type": "code",
   "execution_count": 23,
   "metadata": {
    "collapsed": false
   },
   "outputs": [],
   "source": [
    "from src.reddit_scraping import Reddit_Scrape"
   ]
  },
  {
   "cell_type": "code",
   "execution_count": 19,
   "metadata": {
    "collapsed": false
   },
   "outputs": [],
   "source": [
    "scraper = Scrape()"
   ]
  },
  {
   "cell_type": "code",
   "execution_count": 21,
   "metadata": {
    "collapsed": true
   },
   "outputs": [],
   "source": [
    "source = scraper.get_source('http://www.reddit.com', ret=True)"
   ]
  },
  {
   "cell_type": "code",
   "execution_count": 66,
   "metadata": {
    "collapsed": false
   },
   "outputs": [],
   "source": [
    "reddit_posts = Reddit_Scrape('http://www.reddit.com')"
   ]
  },
  {
   "cell_type": "code",
   "execution_count": 67,
   "metadata": {
    "collapsed": false
   },
   "outputs": [
    {
     "ename": "IndexError",
     "evalue": "list index out of range",
     "output_type": "error",
     "traceback": [
      "\u001b[0;31m---------------------------------------------------------------------------\u001b[0m",
      "\u001b[0;31mIndexError\u001b[0m                                Traceback (most recent call last)",
      "\u001b[0;32m<ipython-input-67-32ed5fb78267>\u001b[0m in \u001b[0;36m<module>\u001b[0;34m()\u001b[0m\n\u001b[0;32m----> 1\u001b[0;31m \u001b[0mreddit_dict\u001b[0m \u001b[0;34m=\u001b[0m \u001b[0mreddit_posts\u001b[0m\u001b[0;34m.\u001b[0m\u001b[0mmain_loop\u001b[0m\u001b[0;34m(\u001b[0m\u001b[0;34m)\u001b[0m\u001b[0;34m\u001b[0m\u001b[0m\n\u001b[0m",
      "\u001b[0;32m/Users/brian/Google Drive/Galvanize/course/capstone/redditoracle/src/reddit_scraping.py\u001b[0m in \u001b[0;36mmain_loop\u001b[0;34m(self)\u001b[0m\n\u001b[1;32m     51\u001b[0m         \"\"\"\n\u001b[1;32m     52\u001b[0m         \u001b[0;32mfor\u001b[0m \u001b[0mpost\u001b[0m \u001b[0;32min\u001b[0m \u001b[0mrange\u001b[0m\u001b[0;34m(\u001b[0m\u001b[0mlen\u001b[0m\u001b[0;34m(\u001b[0m\u001b[0mself\u001b[0m\u001b[0;34m.\u001b[0m\u001b[0mposts\u001b[0m\u001b[0;34m)\u001b[0m\u001b[0;34m)\u001b[0m\u001b[0;34m:\u001b[0m\u001b[0;34m\u001b[0m\u001b[0m\n\u001b[0;32m---> 53\u001b[0;31m             \u001b[0mcomments\u001b[0m\u001b[0;34m,\u001b[0m \u001b[0msub\u001b[0m \u001b[0;34m=\u001b[0m \u001b[0mself\u001b[0m\u001b[0;34m.\u001b[0m\u001b[0mget_comments_html\u001b[0m\u001b[0;34m(\u001b[0m\u001b[0mself\u001b[0m\u001b[0;34m.\u001b[0m\u001b[0mposts\u001b[0m\u001b[0;34m[\u001b[0m\u001b[0mpost\u001b[0m\u001b[0;34m]\u001b[0m\u001b[0;34m)\u001b[0m\u001b[0;34m\u001b[0m\u001b[0m\n\u001b[0m\u001b[1;32m     54\u001b[0m             \u001b[0;32mif\u001b[0m \u001b[0msub\u001b[0m \u001b[0;32min\u001b[0m \u001b[0mself\u001b[0m\u001b[0;34m.\u001b[0m\u001b[0msubs\u001b[0m\u001b[0;34m:\u001b[0m\u001b[0;34m\u001b[0m\u001b[0m\n\u001b[1;32m     55\u001b[0m                 \u001b[0mtitle\u001b[0m \u001b[0;34m=\u001b[0m \u001b[0mself\u001b[0m\u001b[0;34m.\u001b[0m\u001b[0mget_titles_html\u001b[0m\u001b[0;34m(\u001b[0m\u001b[0mself\u001b[0m\u001b[0;34m.\u001b[0m\u001b[0mposts\u001b[0m\u001b[0;34m[\u001b[0m\u001b[0mpost\u001b[0m\u001b[0;34m]\u001b[0m\u001b[0;34m)\u001b[0m\u001b[0;34m\u001b[0m\u001b[0m\n",
      "\u001b[0;32m/Users/brian/Google Drive/Galvanize/course/capstone/redditoracle/src/reddit_scraping.py\u001b[0m in \u001b[0;36mget_comments_html\u001b[0;34m(self, post)\u001b[0m\n\u001b[1;32m     34\u001b[0m             \u001b[0msection\u001b[0m \u001b[0;34m=\u001b[0m \u001b[0mstr\u001b[0m\u001b[0;34m(\u001b[0m\u001b[0mpost\u001b[0m\u001b[0;34m.\u001b[0m\u001b[0mselect\u001b[0m\u001b[0;34m(\u001b[0m\u001b[0;34m'a.bylink'\u001b[0m\u001b[0;34m)\u001b[0m\u001b[0;34m[\u001b[0m\u001b[0;36m0\u001b[0m\u001b[0;34m]\u001b[0m\u001b[0;34m)\u001b[0m\u001b[0;34m\u001b[0m\u001b[0m\n\u001b[1;32m     35\u001b[0m             \u001b[0mcomments\u001b[0m \u001b[0;34m=\u001b[0m \u001b[0mre\u001b[0m\u001b[0;34m.\u001b[0m\u001b[0mfindall\u001b[0m\u001b[0;34m(\u001b[0m\u001b[0;34mr\"href=\\\"([^\\\"]+)\\\"\"\u001b[0m\u001b[0;34m,\u001b[0m \u001b[0msection\u001b[0m\u001b[0;34m)\u001b[0m\u001b[0;34m[\u001b[0m\u001b[0;36m0\u001b[0m\u001b[0;34m]\u001b[0m\u001b[0;34m\u001b[0m\u001b[0m\n\u001b[0;32m---> 36\u001b[0;31m             \u001b[0msub\u001b[0m \u001b[0;34m=\u001b[0m \u001b[0mre\u001b[0m\u001b[0;34m.\u001b[0m\u001b[0mfindall\u001b[0m\u001b[0;34m(\u001b[0m\u001b[0;34mr\"\\/r\\/(\\w+)\"\u001b[0m\u001b[0;34m,\u001b[0m \u001b[0mcomments\u001b[0m\u001b[0;34m)\u001b[0m\u001b[0;34m[\u001b[0m\u001b[0;36m0\u001b[0m\u001b[0;34m]\u001b[0m\u001b[0;34m\u001b[0m\u001b[0m\n\u001b[0m\u001b[1;32m     37\u001b[0m         \u001b[0;32melse\u001b[0m\u001b[0;34m:\u001b[0m\u001b[0;34m\u001b[0m\u001b[0m\n\u001b[1;32m     38\u001b[0m             \u001b[0mcomments\u001b[0m \u001b[0;34m=\u001b[0m \u001b[0;34m'null'\u001b[0m\u001b[0;34m\u001b[0m\u001b[0m\n",
      "\u001b[0;31mIndexError\u001b[0m: list index out of range"
     ]
    }
   ],
   "source": [
    "reddit_dict = reddit_posts.main_loop()"
   ]
  },
  {
   "cell_type": "code",
   "execution_count": 68,
   "metadata": {
    "collapsed": false
   },
   "outputs": [
    {
     "name": "stdout",
     "output_type": "stream",
     "text": [
      "Post 4: [{'sub': 'videos', 'comments': 'https://www.reddit.com/r/videos/comments/5vy71a/if_a_teacher_says_they_dont_want_a_surprise_party/', 'title': u\"If a teacher says they don't want a surprise party, don't throw a surprise party. (streamable.com)\"}]\n",
      "\n",
      "Post 5: [{'sub': 'space', 'comments': 'https://www.reddit.com/r/space/comments/5vxnu9/found_this_interesting_little_conversation_in_the/', 'title': u'Found this interesting little conversation in the Apollo 13 transcripts. (i.imgur.com)'}]\n",
      "\n",
      "Post 6: [{'sub': 'aww', 'comments': 'https://www.reddit.com/r/aww/comments/5vxp4t/while_all_the_other_dogs_in_the_park_were_playing/', 'title': u'While all the other dogs in the park were playing around, he read a book with his human. (imgur.com)'}]\n",
      "\n",
      "Post 8: [{'sub': 'GetMotivated', 'comments': 'https://www.reddit.com/r/GetMotivated/comments/5vxrvl/image_fear_vs_exhilaration/', 'title': u'[Image] Fear vs. Exhilaration (imgur.com)'}]\n",
      "\n",
      "Post 9: [{'sub': 'mildlyinteresting', 'comments': 'https://www.reddit.com/r/mildlyinteresting/comments/5vxi40/the_tree_fell_but_the_branches_grew_into_trees/', 'title': u'The tree fell, but the branches grew into trees (i.reddituploads.com)'}]\n",
      "\n",
      "Post 11: [{'sub': 'photoshopbattles', 'comments': 'https://www.reddit.com/r/photoshopbattles/comments/5vxqea/psbattle_wingsuit_rodeo/', 'title': u'PsBattle: Wingsuit rodeoPhotoshops Only Mode | Cutout in Comments (i.imgur.com)'}]\n",
      "\n",
      "Post 12: [{'sub': 'worldnews', 'comments': 'https://www.reddit.com/r/worldnews/comments/5vxdcc/donald_trump_says_he_wants_to_expand_us_nuclear/', 'title': u\"Donald Trump says he wants to expand US nuclear arsenal, make it 'top of the pack'Trump (telegraph.co.uk)\"}]\n",
      "\n",
      "Post 13: [{'sub': 'gifs', 'comments': 'https://www.reddit.com/r/gifs/comments/5vxafi/a_very_polite_shoebill/', 'title': u'A very polite Shoebill (i.imgur.com)'}]\n",
      "\n",
      "Post 15: [{'sub': 'Art', 'comments': 'https://www.reddit.com/r/Art/comments/5vxgx6/hawaiian_gold_ii_oil_on_canvas_36_x_24/', 'title': u'\"Hawaiian Gold II\" - Oil on canvas - 36\" x 24\"Artwork (christophersmartdiveart.com)'}]\n",
      "\n",
      "Post 16: [{'sub': 'pics', 'comments': 'https://www.reddit.com/r/pics/comments/5vxacf/the_most_horrific_faceswap_ive_ever_encountered/', 'title': u\"The most horrific face-swap I've ever encountered... (i.redd.it)\"}]\n",
      "\n",
      "Post 17: [{'sub': 'funny', 'comments': 'https://www.reddit.com/r/funny/comments/5vx25g/fun_facts_about_germany/', 'title': u'Fun facts about germany (i.imgur.com)'}]\n",
      "\n",
      "Post 21: [{'sub': 'science', 'comments': 'https://www.reddit.com/r/science/comments/5vx6bc/pnas_study_talking_to_teenagers_about_the/', 'title': u'PNAS study: Talking to teenagers about the benefits of science boosted their exam results by as much as 12%, which in turn increased the number pursuing STEM-based careers.Social Science (physicsworld.com)'}]\n",
      "\n",
      "Post 25: [{'sub': 'LifeProTips', 'comments': 'https://www.reddit.com/r/LifeProTips/comments/5vy94l/lpt_when_making_an_argument_a_single_strong_point/', 'title': u'LPT: When making an argument, a single strong point is better than one strong point and multiple weak points. Weak points become targets and weaken your entire position. (self.LifeProTips)'}]\n",
      "\n"
     ]
    }
   ],
   "source": [
    "for x,y in reddit_dict.items():\n",
    "    print \"Post {}: {}\\n\".format(x,y)"
   ]
  },
  {
   "cell_type": "code",
   "execution_count": 59,
   "metadata": {
    "collapsed": false
   },
   "outputs": [
    {
     "data": {
      "text/plain": [
       "dict"
      ]
     },
     "execution_count": 59,
     "metadata": {},
     "output_type": "execute_result"
    }
   ],
   "source": [
    "type(reddit_dict)"
   ]
  },
  {
   "cell_type": "code",
   "execution_count": 61,
   "metadata": {
    "collapsed": false
   },
   "outputs": [
    {
     "data": {
      "text/plain": [
       "[[{'comments': 'https://www.reddit.com/r/videos/comments/5vy71a/if_a_teacher_says_they_dont_want_a_surprise_party/',\n",
       "   'sub': 'videos',\n",
       "   'title': u\"If a teacher says they don't want a surprise party, don't throw a surprise party. (streamable.com)\"}],\n",
       " [{'comments': 'https://www.reddit.com/r/space/comments/5vxnu9/found_this_interesting_little_conversation_in_the/',\n",
       "   'sub': 'space',\n",
       "   'title': u'Found this interesting little conversation in the Apollo 13 transcripts. (i.imgur.com)'}],\n",
       " [{'comments': 'https://www.reddit.com/r/aww/comments/5vxp4t/while_all_the_other_dogs_in_the_park_were_playing/',\n",
       "   'sub': 'aww',\n",
       "   'title': u'While all the other dogs in the park were playing around, he read a book with his human. (imgur.com)'}],\n",
       " [{'comments': 'https://www.reddit.com/r/GetMotivated/comments/5vxrvl/image_fear_vs_exhilaration/',\n",
       "   'sub': 'GetMotivated',\n",
       "   'title': u'[Image] Fear vs. Exhilaration (imgur.com)'}],\n",
       " [{'comments': 'https://www.reddit.com/r/mildlyinteresting/comments/5vxi40/the_tree_fell_but_the_branches_grew_into_trees/',\n",
       "   'sub': 'mildlyinteresting',\n",
       "   'title': u'The tree fell, but the branches grew into trees (i.reddituploads.com)'}],\n",
       " [{'comments': 'https://www.reddit.com/r/photoshopbattles/comments/5vxqea/psbattle_wingsuit_rodeo/',\n",
       "   'sub': 'photoshopbattles',\n",
       "   'title': u'PsBattle: Wingsuit rodeoPhotoshops Only Mode | Cutout in Comments (i.imgur.com)'}],\n",
       " [{'comments': 'https://www.reddit.com/r/worldnews/comments/5vxdcc/donald_trump_says_he_wants_to_expand_us_nuclear/',\n",
       "   'sub': 'worldnews',\n",
       "   'title': u\"Donald Trump says he wants to expand US nuclear arsenal, make it 'top of the pack'Trump (telegraph.co.uk)\"}],\n",
       " [{'comments': 'https://www.reddit.com/r/gifs/comments/5vxafi/a_very_polite_shoebill/',\n",
       "   'sub': 'gifs',\n",
       "   'title': u'A very polite Shoebill (i.imgur.com)'}],\n",
       " [{'comments': 'https://www.reddit.com/r/Art/comments/5vxgx6/hawaiian_gold_ii_oil_on_canvas_36_x_24/',\n",
       "   'sub': 'Art',\n",
       "   'title': u'\"Hawaiian Gold II\" - Oil on canvas - 36\" x 24\"Artwork (christophersmartdiveart.com)'}],\n",
       " [{'comments': 'https://www.reddit.com/r/pics/comments/5vxacf/the_most_horrific_faceswap_ive_ever_encountered/',\n",
       "   'sub': 'pics',\n",
       "   'title': u\"The most horrific face-swap I've ever encountered... (i.redd.it)\"}],\n",
       " [{'comments': 'https://www.reddit.com/r/funny/comments/5vx25g/fun_facts_about_germany/',\n",
       "   'sub': 'funny',\n",
       "   'title': u'Fun facts about germany (i.imgur.com)'}],\n",
       " [{'comments': 'https://www.reddit.com/r/science/comments/5vx6bc/pnas_study_talking_to_teenagers_about_the/',\n",
       "   'sub': 'science',\n",
       "   'title': u'PNAS study: Talking to teenagers about the benefits of science boosted their exam results by as much as 12%, which in turn increased the number pursuing STEM-based careers.Social Science (physicsworld.com)'}],\n",
       " [{'comments': 'https://www.reddit.com/r/LifeProTips/comments/5vy94l/lpt_when_making_an_argument_a_single_strong_point/',\n",
       "   'sub': 'LifeProTips',\n",
       "   'title': u'LPT: When making an argument, a single strong point is better than one strong point and multiple weak points. Weak points become targets and weaken your entire position. (self.LifeProTips)'}]]"
      ]
     },
     "execution_count": 61,
     "metadata": {},
     "output_type": "execute_result"
    }
   ],
   "source": [
    "reddit_dict.values()"
   ]
  },
  {
   "cell_type": "code",
   "execution_count": null,
   "metadata": {
    "collapsed": true
   },
   "outputs": [],
   "source": []
  }
 ],
 "metadata": {
  "kernelspec": {
   "display_name": "Python 2",
   "language": "python",
   "name": "python2"
  },
  "language_info": {
   "codemirror_mode": {
    "name": "ipython",
    "version": 2
   },
   "file_extension": ".py",
   "mimetype": "text/x-python",
   "name": "python",
   "nbconvert_exporter": "python",
   "pygments_lexer": "ipython2",
   "version": "2.7.13"
  }
 },
 "nbformat": 4,
 "nbformat_minor": 2
}
